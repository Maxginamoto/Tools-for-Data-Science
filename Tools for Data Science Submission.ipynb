{
 "cells": [
  {
   "cell_type": "markdown",
   "id": "383cb00b-ace6-4615-a747-34b2afa749b6",
   "metadata": {},
   "source": [
    "<b>IBM Tools for Data Science Project submission<b>"
   ]
  },
  {
   "cell_type": "markdown",
   "id": "e1bc50c5-2200-4ca7-be24-861675ad2d08",
   "metadata": {},
   "source": [
    "this in the submission for the peer-to-peer assignment submission for the Tools for Data Science course by IBM"
   ]
  },
  {
   "cell_type": "markdown",
   "id": "be7ea2d3-60b1-44ac-8c4b-4577f58fdfe9",
   "metadata": {},
   "source": [
    "Some of the most commonly used data science languages are:\n",
   "<ul>\n",
   "   <li>Python</li>\n",
   "   <li>Java</li>\n",
   "   <li>R</li>\n",
   "   <li>SQL</li>\n",
   "   <li>C/C++</li>\n",
   "   <li>Scala</li>\n",
   "</ul>."
   ]
  },
  {
   "cell_type": "markdown",
   "id": "2b438a09-13e0-4c4e-9c1f-19674f696642",
   "metadata": {},
   "source": [
    "Some data science libraries used alongside python language are:\n",
    "<ul>\n",
    "    <li>Pandas</li>\n",
    "    <li>NumPy</li>\n",
    "    <li>Matplotlib</li>\n",
    "    <li>Plotly</li>\n",
    "    <li>PyTorch</li>\n",
    "    <li>TensorFlow</li>\n",
    "</ul>"
   ]
  },
  {
   "cell_type": "markdown",
   "id": "da8ad1c6-7dd6-45f6-a0e2-f02c824875bc",
   "metadata": {},
   "source": [
    "<center><b>Data Science Tools</b></center>\n",
    "\n",
    "| Category            | Tool/Technology         | Description                                        |\n",
    "|---------------------|-------------------------|----------------------------------------------------|\n",
    "| Programming Language| Python, R               | Widely used for data analysis and modeling         |\n",
    "| Data Manipulation   | Pandas, dplyr           | Libraries for data wrangling and manipulation      |\n",
    "| Visualization       | Matplotlib, ggplot2     | Tools for creating static and interactive plots    |\n",
    "| Machine Learning    | Scikit-learn, TensorFlow| Libraries for building and training ML models      |\n",
    "| Big Data            | Apache Spark, Hadoop    | Tools for processing large datasets                |\n",
    "| Data Storage        | SQL, MongoDB            | Databases for structured and unstructured data     |\n",
    "| Notebook Interface  | Jupyter, RStudio        | Interactive environments for code and documentation|\n",
    "| Cloud Platforms     | AWS, Google Cloud       | Cloud services for scalable computing and storage  |\n"
   ]
  },
  {
   "cell_type": "markdown",
   "id": "bf36bf7b-7884-45ed-ac45-0b89c777ec83",
   "metadata": {},
   "source": [
    "We can perform vatiour arithmatic operation in python using the following symbols:\n",
    "<ul>\n",
    "    <li>Addition: \"+\"</li>\n",
    "    <li>Subtraction: \"-\"</li>\n",
    "    <li>Multiplication: \"*\"</li>\n",
    "    <li>Division: \"/\"</li>\n",
    "    <li>Modular Division: \"//\"</li>\n",
    "    <li>Remainder: \"%\"</li>\n",
    "</ul>"
   ]
  },
  {
   "cell_type": "code",
   "execution_count": 5,
   "id": "78971430-5227-455d-ae91-41130af103b7",
   "metadata": {},
   "outputs": [
    {
     "name": "stdout",
     "output_type": "stream",
     "text": [
      "11\n",
      "30\n"
     ]
    }
   ],
   "source": [
    "a = 6 #Enter the first value here\n",
    "b = 5 #Enter the second value here\n",
    "print(a+b) #prints the addition\n",
    "print(a*b) #prints the multiplication"
   ]
  },
  {
   "cell_type": "code",
   "execution_count": 8,
   "id": "055dec8b-8865-47e4-bb1f-c1ac948d8b9c",
   "metadata": {},
   "outputs": [
    {
     "name": "stdout",
     "output_type": "stream",
     "text": [
      "126 minutes = 2 Hrs and 6 Mins\n"
     ]
    }
   ],
   "source": [
    "mins = 126 #Enter time in minutes\n",
    "print(mins, \"minutes =\", mins//60, \"Hrs and\", mins%60, \"Mins\")"
   ]
  },
  {
   "cell_type": "markdown",
   "id": "430ed75f-76c4-4b04-8f5d-166340121ace",
   "metadata": {},
   "source": [
    "<b>Here are the objectives:</b>\n",
    "<ul>\n",
    "    <li>Understand the Data Science Workflow</li>\n",
    "    <li>Gain Proficiency with Essential Data Science Tools</li>\n",
    "    <li>Build Hands-On Experience Through Practical Labs</li>\n",
    "</ul>"
   ]
  },
  {
   "cell_type": "markdown",
   "id": "8463517d-71aa-4e49-8407-f6ab9c37b13f",
   "metadata": {},
   "source": [
    "<i>~Mohak Khnadelwal</i>"
   ]
  }
 ],
 "metadata": {
  "kernelspec": {
   "display_name": "Python [conda env:base] *",
   "language": "python",
   "name": "conda-base-py"
  },
  "language_info": {
   "codemirror_mode": {
    "name": "ipython",
    "version": 3
   },
   "file_extension": ".py",
   "mimetype": "text/x-python",
   "name": "python",
   "nbconvert_exporter": "python",
   "pygments_lexer": "ipython3",
   "version": "3.12.7"
  }
 },
 "nbformat": 4,
 "nbformat_minor": 5
}
